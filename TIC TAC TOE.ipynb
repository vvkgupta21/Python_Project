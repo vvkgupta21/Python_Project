{
 "cells": [
  {
   "cell_type": "markdown",
   "metadata": {},
   "source": [
    "# Project-1: Tic Tac Toe"
   ]
  },
  {
   "cell_type": "markdown",
   "metadata": {},
   "source": [
    "Below given are set of steps to create Tic Tac Toe project game."
   ]
  },
  {
   "cell_type": "markdown",
   "metadata": {},
   "source": [
    "# Step-1: \n"
   ]
  },
  {
   "cell_type": "markdown",
   "metadata": {},
   "source": [
    "This function print out a board."
   ]
  },
  {
   "cell_type": "code",
   "execution_count": 1,
   "metadata": {},
   "outputs": [],
   "source": [
    "from IPython.display import clear_output                                                                               #module_1\n",
    "\n",
    "def draw(board):\n",
    "    clear_output()                                   \n",
    "    \n",
    "    print('   |   |')\n",
    "    print(' ' + board[7] + ' | ' + board[8] + ' | ' + board[9])\n",
    "    print('   |   |')\n",
    "    print('-----------')\n",
    "    print('   |   |')\n",
    "    print(' ' + board[4] + ' | ' + board[5] + ' | ' + board[6])\n",
    "    print('   |   |')\n",
    "    print('-----------')\n",
    "    print('   |   |')\n",
    "    print(' ' + board[1] + ' | ' + board[2] + ' | ' + board[3])\n",
    "    print('   |   |')"
   ]
  },
  {
   "cell_type": "markdown",
   "metadata": {},
   "source": [
    "# Step-2:"
   ]
  },
  {
   "cell_type": "markdown",
   "metadata": {},
   "source": [
    " This function can take in a player input and assign their letter as 'X' or 'O'."
   ]
  },
  {
   "cell_type": "code",
   "execution_count": 2,
   "metadata": {},
   "outputs": [],
   "source": [
    "def player_choice():                                                                                                   #module_2\n",
    "    letter = ''\n",
    "    \n",
    "    while not (letter == \"X\" or letter == \"O\"):\n",
    "        print(\"player 1: Do you you want to be X or O?\")\n",
    "        letter = input().upper()\n",
    "        if letter == \"X\":\n",
    "            return (\"X\",\"O\")\n",
    "        else:\n",
    "            return (\"O\",\"X\")"
   ]
  },
  {
   "cell_type": "markdown",
   "metadata": {},
   "source": [
    "# Step-3:"
   ]
  },
  {
   "cell_type": "markdown",
   "metadata": {},
   "source": [
    "This function takes in the board list object, a letter ('X' or 'O'), and a desired position (number 1-9) and assigns it to the board."
   ]
  },
  {
   "cell_type": "code",
   "execution_count": 3,
   "metadata": {},
   "outputs": [],
   "source": [
    "def MakeMove(letter,board,position):                                                                                   #module_3\n",
    "    board[position] = letter"
   ]
  },
  {
   "cell_type": "markdown",
   "metadata": {},
   "source": [
    "# Step-4:"
   ]
  },
  {
   "cell_type": "markdown",
   "metadata": {},
   "source": [
    " This function takes in a board and a mark (X or O) and then checks to see if that mark has won."
   ]
  },
  {
   "cell_type": "code",
   "execution_count": 4,
   "metadata": {},
   "outputs": [],
   "source": [
    "def check_win(board,letter):                                                                                           #module_4\n",
    "    \n",
    "    return ((board[7] == letter and board[8] == letter and board[9] == letter) or # across the top\n",
    "    (board[4] == letter and board[5] == letter and board[6] == letter) or # across the middle\n",
    "    (board[1] == letter and board[2] == letter and board[3] == letter) or # across the bottom\n",
    "    (board[7] == letter and board[4] == letter and board[1] == letter) or # down the middle\n",
    "    (board[8] == letter and board[5] == letter and board[2] == letter) or # down the middle\n",
    "    (board[9] == letter and board[6] == letter and board[3] == letter) or # down the right side\n",
    "    (board[7] == letter and board[5] == letter and board[3] == letter) or # diagonal\n",
    "    (board[9] == letter and board[5] == letter and board[1] == letter)) # diagonal"
   ]
  },
  {
   "cell_type": "markdown",
   "metadata": {},
   "source": [
    "# Step-5:"
   ]
  },
  {
   "cell_type": "markdown",
   "metadata": {},
   "source": [
    "This function uses the random module to randomly decide which player goes first."
   ]
  },
  {
   "cell_type": "code",
   "execution_count": null,
   "metadata": {},
   "outputs": [],
   "source": [
    "import random                                                                                                          #module_5\n",
    "def whogofirst():\n",
    "    if random.randint(0,1)==0:\n",
    "        return \"player_2\"\n",
    "    else:\n",
    "        return \"player_1\""
   ]
  },
  {
   "cell_type": "markdown",
   "metadata": {},
   "source": [
    "# Step-6:"
   ]
  },
  {
   "cell_type": "markdown",
   "metadata": {},
   "source": [
    "This function returns a boolean indicating whether a space on the board is freely available."
   ]
  },
  {
   "cell_type": "code",
   "execution_count": null,
   "metadata": {},
   "outputs": [],
   "source": [
    "def space_check(board,position):                                                                                       #module_6\n",
    "    return board[position] == \" \"         # if space available, it will return true, else false"
   ]
  },
  {
   "cell_type": "markdown",
   "metadata": {},
   "source": [
    "# Step-7:"
   ]
  },
  {
   "cell_type": "markdown",
   "metadata": {},
   "source": [
    "This function checks if the board is full and returns a boolean value. True if full, False otherwise."
   ]
  },
  {
   "cell_type": "code",
   "execution_count": null,
   "metadata": {},
   "outputs": [],
   "source": [
    "def board_full_or_not(board):                                                                                          #module_7\n",
    "    for i in range(1,10):\n",
    "        if space_check(board,i):\n",
    "            return False            # it will return true if board is full, else return false\n",
    "    return False                     "
   ]
  },
  {
   "cell_type": "markdown",
   "metadata": {},
   "source": [
    "# Step-8:"
   ]
  },
  {
   "cell_type": "markdown",
   "metadata": {},
   "source": [
    "This function asks for a player's next position (as a number 1-9) and then uses the function from step 6 to check if it's a free position. If it is, then return the position for later use."
   ]
  },
  {
   "cell_type": "code",
   "execution_count": null,
   "metadata": {},
   "outputs": [],
   "source": [
    "def player_choice_nxt(board):                                                                                          #module_8\n",
    "    position = 0\n",
    "    \n",
    "    while position not in [1,2,3,4,5,6,7,8,9] or not space_check(board, position):\n",
    "        position = int(input('Choose your next position: (1-9) '))\n",
    "        \n",
    "    return position\n",
    "    "
   ]
  },
  {
   "cell_type": "markdown",
   "metadata": {},
   "source": [
    "# Step-9:"
   ]
  },
  {
   "cell_type": "markdown",
   "metadata": {},
   "source": [
    "This function asks the player if they want to play again and returns a boolean True if they do want to play again."
   ]
  },
  {
   "cell_type": "code",
   "execution_count": null,
   "metadata": {},
   "outputs": [],
   "source": [
    "def replay():                                                                                                          #module_9\n",
    "    return input(\"Do you want to play again?Enter yes or no:\").lower().startswith(\"y\")"
   ]
  },
  {
   "cell_type": "markdown",
   "metadata": {},
   "source": [
    "# Step-10:"
   ]
  },
  {
   "cell_type": "markdown",
   "metadata": {},
   "source": [
    "I have combine all above given modules to run the game."
   ]
  },
  {
   "cell_type": "code",
   "execution_count": null,
   "metadata": {},
   "outputs": [
    {
     "name": "stdout",
     "output_type": "stream",
     "text": [
      "   |   |\n",
      "   |   |  \n",
      "   |   |\n",
      "-----------\n",
      "   |   |\n",
      "   |   |  \n",
      "   |   |\n",
      "-----------\n",
      "   |   |\n",
      "   |   |  \n",
      "   |   |\n"
     ]
    }
   ],
   "source": [
    "print(\"Welcome to Tic Tac Toe!\")                                                                                      #module_10\n",
    "while True:\n",
    "    #Reset the board\n",
    "    the_board = [\" \"]*10\n",
    "    player1_letter,player2_letter = player_choice()\n",
    "    turn = whogofirst()\n",
    "    print(\"{} will go first\".format(turn))\n",
    "    play_game = input(\"Are you ready to play? Enter Yes or No:\").lower()\n",
    "    print(\"Note: You have enter \")\n",
    "    \n",
    "    if play_game.lower()[0] == \"y\":\n",
    "        game_on = True\n",
    "    else:\n",
    "        game_on = False\n",
    "        \n",
    "    while game_on == True:\n",
    "        #player_1 turn\n",
    "        if turn == \"player_1\":\n",
    "            \n",
    "            draw(the_board)\n",
    "            position = player_choice_nxt(the_board)\n",
    "            MakeMove(player1_letter,the_board,position)\n",
    "            \n",
    "            if check_win(the_board,player1_letter):\n",
    "                draw(the_board)\n",
    "                print(\"Congratulations! You Won The Match.\")\n",
    "                game_on = False\n",
    "                \n",
    "            else:\n",
    "                if board_full_or_not(the_board):\n",
    "                    draw(the_board)\n",
    "                    print(\"The game is a draw\")\n",
    "                    break\n",
    "                else:\n",
    "                    turn = \"player_2\"\n",
    "                    \n",
    "        else:\n",
    "            draw(the_board)\n",
    "            position = player_choice_nxt(the_board)        \n",
    "            MakeMove(player2_letter,the_board,position)\n",
    "            \n",
    "            if check_win(the_board, player2_letter):\n",
    "                draw(the_board)    \n",
    "                print(\"player_2 won the match\")\n",
    "                game_on = False\n",
    "            \n",
    "            else:\n",
    "                if board_full_or_not(the_board):\n",
    "                    draw(the_board)\n",
    "                    print(\"The game is a draw\")\n",
    "                    break\n",
    "                else:\n",
    "                    turn = \"player_1\"\n",
    "                    \n",
    "    if not replay():\n",
    "        break"
   ]
  },
  {
   "cell_type": "code",
   "execution_count": null,
   "metadata": {},
   "outputs": [],
   "source": []
  }
 ],
 "metadata": {
  "kernelspec": {
   "display_name": "Python 3",
   "language": "python",
   "name": "python3"
  },
  "language_info": {
   "codemirror_mode": {
    "name": "ipython",
    "version": 3
   },
   "file_extension": ".py",
   "mimetype": "text/x-python",
   "name": "python",
   "nbconvert_exporter": "python",
   "pygments_lexer": "ipython3",
   "version": "3.7.1"
  }
 },
 "nbformat": 4,
 "nbformat_minor": 2
}
